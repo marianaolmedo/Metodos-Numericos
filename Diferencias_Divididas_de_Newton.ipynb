{
  "nbformat": 4,
  "nbformat_minor": 0,
  "metadata": {
    "colab": {
      "provenance": [],
      "authorship_tag": "ABX9TyPdiu3kUPqk1TfNWnF0QGp7",
      "include_colab_link": true
    },
    "kernelspec": {
      "name": "python3",
      "display_name": "Python 3"
    },
    "language_info": {
      "name": "python"
    }
  },
  "cells": [
    {
      "cell_type": "markdown",
      "metadata": {
        "id": "view-in-github",
        "colab_type": "text"
      },
      "source": [
        "<a href=\"https://colab.research.google.com/github/marianaolmedo/Metodos-Numericos/blob/main/Diferencias_Divididas_de_Newton.ipynb\" target=\"_parent\"><img src=\"https://colab.research.google.com/assets/colab-badge.svg\" alt=\"Open In Colab\"/></a>"
      ]
    },
    {
      "cell_type": "markdown",
      "source": [
        "Alumna:\n",
        "Olmedo Meza Mariana"
      ],
      "metadata": {
        "id": "f6_A6r5tWCii"
      }
    },
    {
      "cell_type": "code",
      "execution_count": 21,
      "metadata": {
        "id": "LZnOLSoHoLij"
      },
      "outputs": [],
      "source": [
        "from math import *\n",
        "import numpy as np\n",
        "import matplotlib . pyplot as plt"
      ]
    },
    {
      "cell_type": "code",
      "source": [
        "def dif_div(x, y):\n",
        "    '''\n",
        "    Funcion que calcula la tabla de las diferencias divididas\n",
        "    '''\n",
        "\n",
        "    n = x.size\n",
        "    #Diferncias Ceros\n",
        "    F= np.zeros([n, n])\n",
        "    # La primera columna es Y\n",
        "    F[:,0] = y\n",
        "\n",
        "    for i in range (0,n):\n",
        "        for j in range(1,i+1):\n",
        "            F[i][j] =(F[i, j-1] - F[i-1, j-1]) / (x[i]- x[i-j])\n",
        "\n",
        "\n",
        "    return F"
      ],
      "metadata": {
        "id": "rDECvd_bqrfK"
      },
      "execution_count": 25,
      "outputs": []
    },
    {
      "cell_type": "code",
      "source": [
        "#Tabla de diferencias\n",
        "x=np.array([1.0,1.3,1.6,1.9,2.2])\n",
        "y=np.array([0.7651977,0.6200860,0.4554022,0.2818186,0.1103623])\n",
        "print(\"    f[x_i]     1°Dif.Div.  2° Dif.Div. 3° Dif.Div. 4° Dif.Div.\\t\")\n",
        "\n",
        "print(dif_div(x,y))"
      ],
      "metadata": {
        "colab": {
          "base_uri": "https://localhost:8080/"
        },
        "id": "jT8fodBQM5fZ",
        "outputId": "fc68495a-ad04-4d07-902e-b0e2f1430d86"
      },
      "execution_count": 26,
      "outputs": [
        {
          "output_type": "stream",
          "name": "stdout",
          "text": [
            "    f[x_i]     1°Dif.Div.  2° Dif.Div. 3° Dif.Div. 4° Dif.Div.\t\n",
            "[[ 0.7651977   0.          0.          0.          0.        ]\n",
            " [ 0.620086   -0.48370567  0.          0.          0.        ]\n",
            " [ 0.4554022  -0.548946   -0.10873389  0.          0.        ]\n",
            " [ 0.2818186  -0.578612   -0.04944333  0.0658784   0.        ]\n",
            " [ 0.1103623  -0.571521    0.01181833  0.06806852  0.0018251 ]]\n"
          ]
        }
      ]
    },
    {
      "cell_type": "code",
      "source": [
        "def newton_pol(x,y):\n",
        "    '''\n",
        "    Evalua la interpolacion de x_i\n",
        "    '''\n",
        "    #Punto a interpolar\n",
        "    x_i=1.5\n",
        "    p=dif_div(x, y)[0,0]\n",
        "    n = x.size\n",
        "\n",
        "\n",
        "    x_0=1\n",
        "    for k in range(1,n):\n",
        "        x_0= x_0*(x_i-x[k-1])\n",
        "        p=p + dif_div(x, y)[k,k] * x_0\n",
        "\n",
        "    return p"
      ],
      "metadata": {
        "id": "bERbcSrwt2Tw"
      },
      "execution_count": 24,
      "outputs": []
    },
    {
      "cell_type": "code",
      "source": [
        "print(\"Evaluando x_i, que es 1.5 en el polinomio el valor es:\")\n",
        "print(newton_pol(x,y))"
      ],
      "metadata": {
        "colab": {
          "base_uri": "https://localhost:8080/"
        },
        "id": "VwA2vGicPGh2",
        "outputId": "316f025b-73e8-4f45-a245-2b1cdb7716c6"
      },
      "execution_count": 13,
      "outputs": [
        {
          "output_type": "stream",
          "name": "stdout",
          "text": [
            "Evaluando x_i, que es 1.5 en el polinomio el valor es:\n",
            "0.5118199942386833\n"
          ]
        }
      ]
    },
    {
      "cell_type": "code",
      "source": [],
      "metadata": {
        "id": "zSAw0rEjVsaL"
      },
      "execution_count": null,
      "outputs": []
    }
  ]
}