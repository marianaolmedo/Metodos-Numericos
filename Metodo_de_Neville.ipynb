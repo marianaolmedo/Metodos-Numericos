{
  "nbformat": 4,
  "nbformat_minor": 0,
  "metadata": {
    "colab": {
      "provenance": [],
      "authorship_tag": "ABX9TyMbYIdyJnOsCjidFy5ZqFX3",
      "include_colab_link": true
    },
    "kernelspec": {
      "name": "python3",
      "display_name": "Python 3"
    },
    "language_info": {
      "name": "python"
    }
  },
  "cells": [
    {
      "cell_type": "markdown",
      "metadata": {
        "id": "view-in-github",
        "colab_type": "text"
      },
      "source": [
        "<a href=\"https://colab.research.google.com/github/marianaolmedo/Metodos-Numericos/blob/main/Metodo_de_Neville.ipynb\" target=\"_parent\"><img src=\"https://colab.research.google.com/assets/colab-badge.svg\" alt=\"Open In Colab\"/></a>"
      ]
    },
    {
      "cell_type": "markdown",
      "source": [
        "Alumna:Olmedo Meza Mariana"
      ],
      "metadata": {
        "id": "vpj5pEODXmdY"
      }
    },
    {
      "cell_type": "code",
      "execution_count": 18,
      "metadata": {
        "id": "JBg1alEaXiVy"
      },
      "outputs": [],
      "source": [
        "from math import *\n",
        "import numpy as np\n",
        "import matplotlib . pyplot as plt\n",
        "from tabulate import tabulate"
      ]
    },
    {
      "cell_type": "code",
      "source": [
        "def metodo_neville(x, y):\n",
        "    \"\"\"\n",
        "    Funcion que genera la tabla de diferencias divididas del metodo de Neville\n",
        "    \"\"\"\n",
        "    n = len(x)\n",
        "    Q = [[0] * n for _ in range(n)]\n",
        "\n",
        "    # La primera columna es Y[i]\n",
        "    for i in range(n):\n",
        "      Q[i][0] = y[i]\n",
        "\n",
        "    for i in range(1, n):\n",
        "        for j in range(1, i + 1):\n",
        "            Q[i][j] = round(((x[i] - x[i-j]) * Q[i][j-1] - (x[i] - x[i-j+1]) * Q[i-1][j-1]) / (x[i] - x[i-j]), 4)\n",
        "\n",
        "    return Q"
      ],
      "metadata": {
        "id": "FJfjcHUwiTrQ"
      },
      "execution_count": 25,
      "outputs": []
    },
    {
      "cell_type": "code",
      "source": [
        "def dif_div(Q):\n",
        "    '''\n",
        "    Funcion que imprime la tabla de las diferencias divididas del metodo de Neville\n",
        "    '''\n",
        "\n",
        "\n",
        "    n = len(Q)\n",
        "    for i in range(n):\n",
        "        for j in range(i + 1):\n",
        "            print(Q[i][j], end=\"\\t\")\n",
        "        print()"
      ],
      "metadata": {
        "id": "ygbvEGgLwWiH"
      },
      "execution_count": 26,
      "outputs": []
    },
    {
      "cell_type": "code",
      "source": [
        "# Valores de x\n",
        "x = [2.0, 2.2, 2.3]\n",
        "#Valores de y\n",
        "y = [0.6931, 0.7885, 0.8329]\n",
        "\n",
        "print(\"Q[i,0]  Q[i,1]  Q[i,2]\\t\")\n",
        "Q = metodo_neville(x, y)\n",
        "dif_div(Q)"
      ],
      "metadata": {
        "colab": {
          "base_uri": "https://localhost:8080/"
        },
        "id": "vOeiAts5yEGO",
        "outputId": "3bf279df-ab85-44bb-c540-18e075102904"
      },
      "execution_count": 32,
      "outputs": [
        {
          "output_type": "stream",
          "name": "stdout",
          "text": [
            "Q[i,0]  Q[i,1]  Q[i,2]\t\n",
            "0.6931\t\n",
            "0.7885\t0.7885\t\n",
            "0.8329\t0.8329\t0.5701\t\n"
          ]
        }
      ]
    },
    {
      "cell_type": "code",
      "source": [
        "def neville_pol(Q, x, x_i):\n",
        "    '''\n",
        "    Función para evaluar la interpolación de Neville\n",
        "    '''\n",
        "\n",
        "\n",
        "    n = len(x)\n",
        "    resultado = Q[n-1][n-1]\n",
        "\n",
        "    for i in range(n-2, -1, -1):\n",
        "        resultado = Q[i][i] + (x_i - x[i]) * resultado\n",
        "\n",
        "    return round(resultado, 4)"
      ],
      "metadata": {
        "id": "fV73U207uxPy"
      },
      "execution_count": 37,
      "outputs": []
    },
    {
      "cell_type": "code",
      "source": [
        "# Valores de x\n",
        "x = [2.0, 2.2, 2.3]\n",
        "#Valores de y\n",
        "y = [0.6931, 0.7885, 0.8329]\n",
        "\n",
        "#Punto a interpolar\n",
        "x_i = 2.1\n",
        "resultado = neville_pol(Q, x, x_i)\n",
        "print(\"Evaluando f(2.1) en el polinomio, el valor es:\", resultado)"
      ],
      "metadata": {
        "colab": {
          "base_uri": "https://localhost:8080/"
        },
        "id": "_J6tWR2zu34K",
        "outputId": "f249df27-2ff7-4ad1-a9cb-3db217417ed6"
      },
      "execution_count": 38,
      "outputs": [
        {
          "output_type": "stream",
          "name": "stdout",
          "text": [
            "Evaluando f(2.1) en el polinomio, el valor es: 0.7662\n"
          ]
        }
      ]
    }
  ]
}